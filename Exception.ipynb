{
 "cells": [
  {
   "cell_type": "markdown",
   "metadata": {},
   "source": [
    "## try, except\n",
    "when we capture the errors, we want to be as specific as possible"
   ]
  },
  {
   "cell_type": "code",
   "execution_count": 1,
   "metadata": {},
   "outputs": [
    {
     "name": "stdout",
     "output_type": "stream",
     "text": [
      "sorry, doesn't exist\n"
     ]
    }
   ],
   "source": [
    "try:\n",
    "    f = open('curruptfile.txt')\n",
    "except Exception:\n",
    "    print('sorry, doesn\\'t exist')"
   ]
  },
  {
   "cell_type": "code",
   "execution_count": 2,
   "metadata": {},
   "outputs": [
    {
     "name": "stdout",
     "output_type": "stream",
     "text": [
      "sorry, doesn't exist\n"
     ]
    }
   ],
   "source": [
    "try:\n",
    "    f = open('curruptfile.txt')\n",
    "except FileNotFoundError:\n",
    "    print('sorry, doesn\\'t exist')"
   ]
  },
  {
   "cell_type": "code",
   "execution_count": 4,
   "metadata": {},
   "outputs": [
    {
     "ename": "NameError",
     "evalue": "name 'badvar' is not defined",
     "output_type": "error",
     "traceback": [
      "\u001b[0;31m---------------------------------------------------------------------------\u001b[0m",
      "\u001b[0;31mNameError\u001b[0m                                 Traceback (most recent call last)",
      "\u001b[0;32m<ipython-input-4-d9aeb033f655>\u001b[0m in \u001b[0;36m<module>\u001b[0;34m()\u001b[0m\n\u001b[1;32m      1\u001b[0m \u001b[0;32mtry\u001b[0m\u001b[0;34m:\u001b[0m\u001b[0;34m\u001b[0m\u001b[0m\n\u001b[0;32m----> 2\u001b[0;31m     \u001b[0mvar\u001b[0m \u001b[0;34m=\u001b[0m \u001b[0mbadvar\u001b[0m\u001b[0;34m\u001b[0m\u001b[0m\n\u001b[0m\u001b[1;32m      3\u001b[0m     \u001b[0mf\u001b[0m \u001b[0;34m=\u001b[0m \u001b[0mopen\u001b[0m\u001b[0;34m(\u001b[0m\u001b[0;34m'curruptfile.txt'\u001b[0m\u001b[0;34m)\u001b[0m\u001b[0;34m\u001b[0m\u001b[0m\n\u001b[1;32m      4\u001b[0m     \u001b[0mvar\u001b[0m \u001b[0;34m=\u001b[0m \u001b[0mbadvar\u001b[0m\u001b[0;34m\u001b[0m\u001b[0m\n\u001b[1;32m      5\u001b[0m \u001b[0;32mexcept\u001b[0m \u001b[0mFileNotFoundError\u001b[0m\u001b[0;34m:\u001b[0m\u001b[0;34m\u001b[0m\u001b[0m\n",
      "\u001b[0;31mNameError\u001b[0m: name 'badvar' is not defined"
     ]
    }
   ],
   "source": [
    "#in this case, we can only capture the FileNotFoundError\n",
    "try:\n",
    "    var = badvar\n",
    "    f = open('curruptfile.txt')\n",
    "except FileNotFoundError:\n",
    "    print('sorry, doesn\\'t exist')"
   ]
  },
  {
   "cell_type": "code",
   "execution_count": 6,
   "metadata": {},
   "outputs": [
    {
     "name": "stdout",
     "output_type": "stream",
     "text": [
      "name 'badvar' is not defined\n"
     ]
    }
   ],
   "source": [
    "try:\n",
    "    var = badvar\n",
    "    f = open('curruptfile.txt')\n",
    "except FileNotFoundError:\n",
    "    print('sorry, doesn\\'t exist')\n",
    "except Exception as e:\n",
    "    print(e)"
   ]
  },
  {
   "cell_type": "markdown",
   "metadata": {},
   "source": [
    "## try, except, else\n",
    "* if there is no error raised, then else will be excuted\n",
    "* if there is error, else will not be excuted"
   ]
  },
  {
   "cell_type": "code",
   "execution_count": 7,
   "metadata": {},
   "outputs": [
    {
     "name": "stdout",
     "output_type": "stream",
     "text": [
      "sorry, doesn't exist\n"
     ]
    }
   ],
   "source": [
    "try:\n",
    "    f = open('curruptfile.txt')\n",
    "except FileNotFoundError:\n",
    "    print('sorry, doesn\\'t exist')\n",
    "else:\n",
    "    print('excute the else')"
   ]
  },
  {
   "cell_type": "markdown",
   "metadata": {},
   "source": [
    "## try, except, else, finally\n",
    "finally will be excuted anyway"
   ]
  },
  {
   "cell_type": "code",
   "execution_count": 8,
   "metadata": {},
   "outputs": [
    {
     "name": "stdout",
     "output_type": "stream",
     "text": [
      "sorry, doesn't exist\n",
      "excute the finally\n"
     ]
    }
   ],
   "source": [
    "try:\n",
    "    f = open('curruptfile.txt')\n",
    "except FileNotFoundError:\n",
    "    print('sorry, doesn\\'t exist')\n",
    "else:\n",
    "    print('excute the else')\n",
    "finally:\n",
    "    print('excute the finally')"
   ]
  },
  {
   "cell_type": "code",
   "execution_count": 9,
   "metadata": {},
   "outputs": [
    {
     "name": "stdout",
     "output_type": "stream",
     "text": [
      "excute the else\n",
      "excute the finally\n"
     ]
    }
   ],
   "source": [
    "try:\n",
    "    name = 'summer'\n",
    "except Exception as e:\n",
    "    print(e)\n",
    "else:\n",
    "    print('excute the else')\n",
    "finally:\n",
    "    print('excute the finally')"
   ]
  },
  {
   "cell_type": "code",
   "execution_count": null,
   "metadata": {},
   "outputs": [],
   "source": []
  }
 ],
 "metadata": {
  "kernelspec": {
   "display_name": "Python 3",
   "language": "python",
   "name": "python3"
  },
  "language_info": {
   "codemirror_mode": {
    "name": "ipython",
    "version": 3
   },
   "file_extension": ".py",
   "mimetype": "text/x-python",
   "name": "python",
   "nbconvert_exporter": "python",
   "pygments_lexer": "ipython3",
   "version": "3.6.5"
  }
 },
 "nbformat": 4,
 "nbformat_minor": 2
}
