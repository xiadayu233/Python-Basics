{
 "cells": [
  {
   "cell_type": "markdown",
   "metadata": {},
   "source": [
    "## some terms\n",
    "* .  - any character except for new Line\n",
    "* \\d - Digit(0-9)\n",
    "* \\D - Not a digit (0-9)\n",
    "* \\w - Word Chatacter (a-z, A-Z, 0-9)\n",
    "* \\W - Not a Word Character\n",
    "* \\s - Whitespace (space, tab, new line)\n",
    "* \\S - Not Whitespace\n",
    "* \\b - Word Boundary\n",
    "* \\B - Not a Word Boundary\n",
    "* ^ - Beginning of a string\n",
    "* \\$ - End of a string"
   ]
  },
  {
   "cell_type": "code",
   "execution_count": 3,
   "metadata": {},
   "outputs": [
    {
     "name": "stdout",
     "output_type": "stream",
     "text": [
      "<_sre.SRE_Match object; span=(1, 4), match='abc'>\n",
      "abc\n"
     ]
    }
   ],
   "source": [
    "import re\n",
    "text_to_search = '''\n",
    "abcdefghijklmnopqurtuvwxyz\n",
    "ABCDEFGHIJKLMNOPQRSTUVWXYZ\n",
    "1234567890\n",
    "Ha HaHa\n",
    "MetaCharacters (Need to be escaped):\n",
    ". ^ $ * + ? { } [ ] \\ | ( )\n",
    "coreyms.com\n",
    "321-555-4321\n",
    "123.555.1234\n",
    "123*555*1234\n",
    "800-555-1234\n",
    "900-555-1234\n",
    "Mr. Schafer\n",
    "Mr Smith\n",
    "Ms Davis\n",
    "Mrs. Robinson\n",
    "Mr. T\n",
    "'''\n",
    "pattern = re.compile(r'abc')\n",
    "matches = pattern.finditer(text_to_search)\n",
    "for match in matches:\n",
    "    print(match)\n",
    "print(text_to_search[1:4])"
   ]
  },
  {
   "cell_type": "code",
   "execution_count": 4,
   "metadata": {},
   "outputs": [
    {
     "name": "stdout",
     "output_type": "stream",
     "text": [
      "<_sre.SRE_Match object; span=(111, 112), match='.'>\n",
      "<_sre.SRE_Match object; span=(146, 147), match='.'>\n",
      "<_sre.SRE_Match object; span=(167, 168), match='.'>\n",
      "<_sre.SRE_Match object; span=(171, 172), match='.'>\n",
      "<_sre.SRE_Match object; span=(218, 219), match='.'>\n",
      "<_sre.SRE_Match object; span=(249, 250), match='.'>\n",
      "<_sre.SRE_Match object; span=(262, 263), match='.'>\n"
     ]
    }
   ],
   "source": [
    "pattern = re.compile(r'\\.')\n",
    "matches = pattern.finditer(text_to_search)\n",
    "for match in matches:\n",
    "    print(match)"
   ]
  },
  {
   "cell_type": "code",
   "execution_count": null,
   "metadata": {},
   "outputs": [],
   "source": []
  }
 ],
 "metadata": {
  "kernelspec": {
   "display_name": "Python 3",
   "language": "python",
   "name": "python3"
  },
  "language_info": {
   "codemirror_mode": {
    "name": "ipython",
    "version": 3
   },
   "file_extension": ".py",
   "mimetype": "text/x-python",
   "name": "python",
   "nbconvert_exporter": "python",
   "pygments_lexer": "ipython3",
   "version": "3.6.5"
  }
 },
 "nbformat": 4,
 "nbformat_minor": 2
}
